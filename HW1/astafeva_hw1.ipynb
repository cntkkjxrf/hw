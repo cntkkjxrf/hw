{
 "cells": [
  {
   "cell_type": "markdown",
   "metadata": {},
   "source": [
    "**Общая информация**\n",
    "\n",
    "**Срок сдачи:** 18 октября 2017, 06:00 <br\\>\n",
    "**Штраф за опоздание:** -2 балла после 06:00 18 октября, -4 балла после 06:00 25 октября, -6 баллов после 06:00 1 ноября\n",
    "\n",
    "При отправлении ДЗ указывайте фамилию в названии файла\n",
    "Присылать ДЗ необходимо в виде ссылки на свой github репозиторий в slack @alkhamush\n",
    "\n",
    "Необходимо в slack создать таск в приватный чат:\n",
    "/todo Фамилия Имя ссылка на гитхаб @alkhamush\n",
    "Пример:\n",
    "/todo Ксения Стройкова https://github.com/stroykova/spheremailru/stroykova_hw1.ipynb @alkhamush\n",
    "Дополнительно нужно просто скинуть ссылку в slack в личный чат\n",
    "\n",
    "Используйте данный Ipython Notebook при оформлении домашнего задания."
   ]
  },
  {
   "cell_type": "markdown",
   "metadata": {},
   "source": [
    "###### Задание 1 (2 баллов)\n",
    "Реализовать KNN в классе MyKNeighborsClassifier (обязательное условие: точность не ниже sklearn реализации)\n",
    "Разберитесь самостоятельно, какая мера расстояния используется в KNeighborsClassifier дефолтно и реализуйте свой алгоритм именно с этой мерой. Самостоятельно разберитесь, как считается score из KNeighborsClassifier и реализуйте аналог в своём классе. Score не должен уступать значению KNN из sklearn\n",
    "\n",
    "###### Задание 2 (2 балла)\n",
    "Добиться скорости работы на fit,  predict и predict_proba сравнимой со sklearn для iris и mnist\n",
    "Для этого используем numpy\n",
    "\n",
    "###### Задание 3 (2 балла)\n",
    "Для iris найдите такой параметр n_neighbors, при котором выдаётся наилучший score. Нарисуйте график зависимости score от n_neighbors\n",
    "\n",
    "###### Задание 4 (3 балла)\n",
    "Добавить algorithm='kd_tree' в реализацию KNN (использовать KDTree из sklearn.neighbors). Значение n_neighbors нужно взять из задания 3. Добиться скорости работы на fit,  predict и predict_proba сравнимой со sklearn для iris и mnist\n",
    "Для этого используем numpy. Score не должен уступать значению KNN из sklearn\n",
    "\n",
    "###### Задание 5 (1 балла)\n",
    "Описать для чего нужны следующие библиотеки/классы/функции (список будет ниже)\n",
    "\n",
    "**Штрафные баллы:**\n",
    "\n",
    "1. Невыполнение PEP8 -1 балл\n",
    "2. Отсутствие фамилии в имени скрипта (скрипт должен называться по аналогии со stroykova_hw1.ipynb) -1 балл\n",
    "3. Все строчки должны быть выполнены. Нужно, чтобы output команды можно было увидеть уже в git'е. В противном случае -1 балл\n",
    "4. При оформлении ДЗ нужно пользоваться данным файлом в качестве шаблона. Не нужно удалять и видоизменять структуру кода и текст. В противном случае -1 балл\n"
   ]
  },
  {
   "cell_type": "code",
   "execution_count": 179,
   "metadata": {},
   "outputs": [],
   "source": [
    "import numpy as np\n",
    "import matplotlib.pyplot as plt\n",
    "\n",
    "import seaborn as sns\n",
    "from sklearn import datasets\n",
    "from sklearn.base import ClassifierMixin\n",
    "from sklearn.datasets import fetch_mldata\n",
    "from sklearn.neighbors.base import NeighborsBase, KNeighborsMixin, SupervisedIntegerMixin \n",
    "from sklearn.model_selection import train_test_split\n",
    "from sklearn.neighbors import KNeighborsClassifier, KDTree\n",
    "from sklearn import metrics\n",
    "#%load_ext pycodestyle_magic"
   ]
  },
  {
   "cell_type": "code",
   "execution_count": 180,
   "metadata": {},
   "outputs": [],
   "source": [
    "#%%pycodestyle\n",
    "\n",
    "class MyKNeighborsClassifier(NeighborsBase, KNeighborsMixin, \n",
    "                             SupervisedIntegerMixin, ClassifierMixin):\n",
    "    \n",
    "    def __init__(self, n_neighbors, algorithm='brute'):\n",
    "        self.n_neighbors = n_neighbors\n",
    "        self.algorithm = algorithm\n",
    "    \n",
    "    def fit(self, X, y):\n",
    "        self.X_train = np.array(X).astype(float)\n",
    "        self.y_train = np.array(y).astype('int64')\n",
    "        self.num_of_classes = len(np.unique(y))\n",
    "        #self.train_size = X.shape[0]\n",
    "        if self.algorithm is 'kd_tree':\n",
    "            self.kd_tree = KDTree(self.X_train)\n",
    "    \n",
    "    def _find_ind(self, X):\n",
    "        if self.algorithm is 'brute':\n",
    "            dist = metrics.pairwise_distances(np.array(X).astype(float), self.X_train)\n",
    "            self.ind = dist.argpartition(self.n_neighbors)[:, :self.n_neighbors]\n",
    "        elif self.algorithm is 'kd_tree':\n",
    "            _, self.ind = self.kd_tree.query(np.array(X).astype(float), k = self.n_neighbors)\n",
    "    \n",
    "    def predict(self, X):\n",
    "        self._find_ind(X)\n",
    "        return np.apply_along_axis(lambda x: np.bincount(x).argmax(), 1, self.y_train[self.ind])\n",
    "        \n",
    "    def predict_proba(self, X):\n",
    "        self._find_ind(X)\n",
    "        pred = np.zeros((X.shape[0], self.num_of_classes))\n",
    "        for i in range(X.shape[0]):\n",
    "            for j in self.ind[i]:\n",
    "                pred[i][self.y_train[j]] += 1\n",
    "        return pred / self.n_neighbors\n",
    "\n",
    "    def score(self, X, y):\n",
    "        return np.sum(y == self.predict(X)) / len(y)"
   ]
  },
  {
   "cell_type": "markdown",
   "metadata": {},
   "source": [
    "**IRIS**"
   ]
  },
  {
   "cell_type": "code",
   "execution_count": 181,
   "metadata": {},
   "outputs": [],
   "source": [
    "iris = datasets.load_iris()"
   ]
  },
  {
   "cell_type": "code",
   "execution_count": 182,
   "metadata": {},
   "outputs": [],
   "source": [
    "X_train, X_test, y_train, y_test = train_test_split(iris.data, iris.target, test_size=0.1, stratify=iris.target)"
   ]
  },
  {
   "cell_type": "code",
   "execution_count": 183,
   "metadata": {},
   "outputs": [],
   "source": [
    "clf = KNeighborsClassifier(n_neighbors=2)\n",
    "my_clf = MyKNeighborsClassifier(n_neighbors=2)"
   ]
  },
  {
   "cell_type": "code",
   "execution_count": 184,
   "metadata": {},
   "outputs": [
    {
     "name": "stdout",
     "output_type": "stream",
     "text": [
      "Wall time: 0 ns\n"
     ]
    },
    {
     "data": {
      "text/plain": [
       "KNeighborsClassifier(algorithm='auto', leaf_size=30, metric='minkowski',\n",
       "           metric_params=None, n_jobs=1, n_neighbors=2, p=2,\n",
       "           weights='uniform')"
      ]
     },
     "execution_count": 184,
     "metadata": {},
     "output_type": "execute_result"
    }
   ],
   "source": [
    "%time clf.fit(X_train, y_train)"
   ]
  },
  {
   "cell_type": "code",
   "execution_count": 185,
   "metadata": {},
   "outputs": [
    {
     "name": "stdout",
     "output_type": "stream",
     "text": [
      "Wall time: 1e+03 µs\n"
     ]
    }
   ],
   "source": [
    "%time my_clf.fit(X_train, y_train)"
   ]
  },
  {
   "cell_type": "code",
   "execution_count": 186,
   "metadata": {},
   "outputs": [
    {
     "name": "stdout",
     "output_type": "stream",
     "text": [
      "Wall time: 21.6 ms\n"
     ]
    },
    {
     "data": {
      "text/plain": [
       "array([0, 1, 1, 0, 1, 1, 2, 2, 2, 0, 1, 1, 0, 2, 0])"
      ]
     },
     "execution_count": 186,
     "metadata": {},
     "output_type": "execute_result"
    }
   ],
   "source": [
    "%time clf.predict(X_test)"
   ]
  },
  {
   "cell_type": "code",
   "execution_count": 187,
   "metadata": {},
   "outputs": [
    {
     "name": "stdout",
     "output_type": "stream",
     "text": [
      "Wall time: 12 ms\n"
     ]
    },
    {
     "data": {
      "text/plain": [
       "array([0, 1, 1, 0, 1, 1, 2, 2, 2, 0, 1, 1, 0, 2, 0], dtype=int64)"
      ]
     },
     "execution_count": 187,
     "metadata": {},
     "output_type": "execute_result"
    }
   ],
   "source": [
    "%time my_clf.predict(X_test)"
   ]
  },
  {
   "cell_type": "code",
   "execution_count": 188,
   "metadata": {},
   "outputs": [
    {
     "name": "stdout",
     "output_type": "stream",
     "text": [
      "Wall time: 3 ms\n"
     ]
    },
    {
     "data": {
      "text/plain": [
       "array([[1., 0., 0.],\n",
       "       [0., 1., 0.],\n",
       "       [0., 1., 0.],\n",
       "       [1., 0., 0.],\n",
       "       [0., 1., 0.],\n",
       "       [0., 1., 0.],\n",
       "       [0., 0., 1.],\n",
       "       [0., 0., 1.],\n",
       "       [0., 0., 1.],\n",
       "       [1., 0., 0.],\n",
       "       [0., 1., 0.],\n",
       "       [0., 1., 0.],\n",
       "       [1., 0., 0.],\n",
       "       [0., 0., 1.],\n",
       "       [1., 0., 0.]])"
      ]
     },
     "execution_count": 188,
     "metadata": {},
     "output_type": "execute_result"
    }
   ],
   "source": [
    "%time clf.predict_proba(X_test)"
   ]
  },
  {
   "cell_type": "code",
   "execution_count": 189,
   "metadata": {},
   "outputs": [
    {
     "name": "stdout",
     "output_type": "stream",
     "text": [
      "Wall time: 15 ms\n"
     ]
    },
    {
     "data": {
      "text/plain": [
       "array([[1., 0., 0.],\n",
       "       [0., 1., 0.],\n",
       "       [0., 1., 0.],\n",
       "       [1., 0., 0.],\n",
       "       [0., 1., 0.],\n",
       "       [0., 1., 0.],\n",
       "       [0., 0., 1.],\n",
       "       [0., 0., 1.],\n",
       "       [0., 0., 1.],\n",
       "       [1., 0., 0.],\n",
       "       [0., 1., 0.],\n",
       "       [0., 1., 0.],\n",
       "       [1., 0., 0.],\n",
       "       [0., 0., 1.],\n",
       "       [1., 0., 0.]])"
      ]
     },
     "execution_count": 189,
     "metadata": {},
     "output_type": "execute_result"
    }
   ],
   "source": [
    "%time my_clf.predict_proba(X_test)"
   ]
  },
  {
   "cell_type": "code",
   "execution_count": 190,
   "metadata": {},
   "outputs": [
    {
     "data": {
      "text/plain": [
       "0.9333333333333333"
      ]
     },
     "execution_count": 190,
     "metadata": {},
     "output_type": "execute_result"
    }
   ],
   "source": [
    "clf.score(X_test, y_test)"
   ]
  },
  {
   "cell_type": "code",
   "execution_count": 191,
   "metadata": {},
   "outputs": [
    {
     "data": {
      "text/plain": [
       "0.9333333333333333"
      ]
     },
     "execution_count": 191,
     "metadata": {},
     "output_type": "execute_result"
    }
   ],
   "source": [
    "my_clf.score(X_test, y_test)"
   ]
  },
  {
   "cell_type": "markdown",
   "metadata": {},
   "source": [
    "Задание 3"
   ]
  },
  {
   "cell_type": "code",
   "execution_count": 192,
   "metadata": {},
   "outputs": [
    {
     "name": "stdout",
     "output_type": "stream",
     "text": [
      "Best is 17\n"
     ]
    },
    {
     "data": {
      "image/png": "[encoded data removed]",
      "text/plain": [
       "<Figure size 432x288 with 1 Axes>"
      ]
     },
     "metadata": {},
     "output_type": "display_data"
    }
   ],
   "source": [
    "Tests = 300\n",
    "Max_Neigh = 30\n",
    "res = []\n",
    "\n",
    "for i in range(1, Max_Neigh):\n",
    "    cur_res = []\n",
    "    for j in range(Tests):\n",
    "        X_train, X_test, y_train, y_test = train_test_split(\n",
    "            iris.data, iris.target, test_size = 0.1,\n",
    "            stratify = iris.target)\n",
    "        my_clf = MyKNeighborsClassifier(n_neighbors=i)\n",
    "        my_clf.fit(X_train, y_train)\n",
    "        cur_res.append(my_clf.score(X_test, y_test))\n",
    "    res.append(np.mean(cur_res))\n",
    "    \n",
    "best = np.argmax(res) + 1\n",
    "print(\"Best is {}\".format(best))\n",
    "plt.plot(range(1, Max_Neigh), res)\n",
    "plt.show()"
   ]
  },
  {
   "cell_type": "markdown",
   "metadata": {},
   "source": [
    "**MNIST**"
   ]
  },
  {
   "cell_type": "code",
   "execution_count": 193,
   "metadata": {},
   "outputs": [],
   "source": [
    "mnist = fetch_mldata('MNIST original')"
   ]
  },
  {
   "cell_type": "code",
   "execution_count": 194,
   "metadata": {},
   "outputs": [],
   "source": [
    "X_train, X_test, y_train, y_test = train_test_split(mnist.data, mnist.target, test_size=0.01, stratify=mnist.target)"
   ]
  },
  {
   "cell_type": "code",
   "execution_count": 195,
   "metadata": {},
   "outputs": [],
   "source": [
    "clf = KNeighborsClassifier(n_neighbors=2)\n",
    "my_clf = MyKNeighborsClassifier(n_neighbors=2)"
   ]
  },
  {
   "cell_type": "code",
   "execution_count": 196,
   "metadata": {},
   "outputs": [
    {
     "name": "stdout",
     "output_type": "stream",
     "text": [
      "Wall time: 46.1 s\n"
     ]
    },
    {
     "data": {
      "text/plain": [
       "KNeighborsClassifier(algorithm='auto', leaf_size=30, metric='minkowski',\n",
       "           metric_params=None, n_jobs=1, n_neighbors=2, p=2,\n",
       "           weights='uniform')"
      ]
     },
     "execution_count": 196,
     "metadata": {},
     "output_type": "execute_result"
    }
   ],
   "source": [
    "%time clf.fit(X_train, y_train)"
   ]
  },
  {
   "cell_type": "code",
   "execution_count": 197,
   "metadata": {},
   "outputs": [
    {
     "name": "stdout",
     "output_type": "stream",
     "text": [
      "Wall time: 373 ms\n"
     ]
    }
   ],
   "source": [
    "%time my_clf.fit(X_train, y_train)"
   ]
  },
  {
   "cell_type": "code",
   "execution_count": 198,
   "metadata": {},
   "outputs": [
    {
     "name": "stdout",
     "output_type": "stream",
     "text": [
      "Wall time: 1min 21s\n"
     ]
    },
    {
     "data": {
      "text/plain": [
       "array([4., 9., 9., 9., 6., 5., 4., 7., 0., 3., 6., 9., 3., 9., 6., 7., 6.,\n",
       "       9., 6., 2., 1., 6., 3., 4., 7., 3., 7., 1., 2., 1., 1., 6., 3., 1.,\n",
       "       1., 1., 3., 6., 1., 6., 1., 2., 0., 3., 4., 7., 2., 4., 8., 3., 4.,\n",
       "       5., 6., 5., 7., 3., 8., 1., 2., 5., 5., 9., 0., 3., 0., 9., 9., 5.,\n",
       "       2., 8., 1., 6., 4., 2., 2., 1., 5., 9., 0., 5., 6., 3., 7., 1., 7.,\n",
       "       8., 8., 1., 7., 5., 6., 4., 8., 7., 7., 7., 1., 6., 2., 3., 0., 4.,\n",
       "       2., 0., 2., 0., 4., 2., 7., 6., 9., 4., 3., 2., 4., 0., 3., 8., 2.,\n",
       "       3., 2., 9., 0., 4., 2., 2., 1., 5., 1., 2., 9., 5., 9., 5., 3., 6.,\n",
       "       0., 4., 5., 9., 6., 3., 6., 3., 1., 3., 7., 8., 4., 5., 3., 7., 5.,\n",
       "       4., 0., 4., 2., 7., 8., 8., 0., 6., 2., 1., 1., 3., 0., 4., 4., 1.,\n",
       "       0., 3., 2., 3., 4., 6., 7., 1., 3., 0., 7., 7., 9., 7., 0., 1., 9.,\n",
       "       6., 7., 3., 0., 6., 7., 6., 2., 0., 0., 3., 6., 3., 3., 3., 5., 7.,\n",
       "       3., 5., 7., 0., 9., 1., 7., 0., 3., 2., 0., 4., 8., 6., 4., 2., 5.,\n",
       "       3., 8., 4., 7., 9., 2., 3., 1., 4., 7., 1., 3., 9., 0., 4., 4., 2.,\n",
       "       8., 8., 7., 7., 6., 5., 0., 8., 0., 0., 3., 2., 1., 4., 1., 3., 1.,\n",
       "       9., 0., 1., 5., 8., 9., 7., 8., 1., 5., 0., 7., 8., 6., 0., 6., 5.,\n",
       "       2., 4., 0., 8., 0., 8., 4., 3., 4., 3., 8., 4., 3., 2., 8., 1., 9.,\n",
       "       3., 5., 6., 8., 9., 7., 9., 1., 7., 2., 5., 2., 2., 1., 7., 7., 1.,\n",
       "       3., 6., 1., 3., 8., 1., 1., 0., 0., 1., 2., 7., 2., 1., 8., 7., 9.,\n",
       "       7., 1., 1., 4., 1., 2., 2., 7., 2., 3., 0., 6., 4., 0., 6., 7., 4.,\n",
       "       4., 3., 8., 6., 1., 7., 5., 5., 5., 0., 9., 6., 6., 0., 7., 9., 1.,\n",
       "       2., 6., 0., 0., 2., 1., 5., 0., 9., 8., 4., 3., 1., 5., 0., 4., 5.,\n",
       "       2., 9., 9., 2., 7., 0., 2., 1., 7., 1., 5., 7., 2., 1., 7., 5., 9.,\n",
       "       9., 4., 4., 7., 8., 7., 9., 9., 7., 4., 7., 5., 9., 3., 8., 8., 1.,\n",
       "       7., 8., 3., 9., 5., 4., 7., 2., 4., 5., 0., 2., 2., 9., 6., 3., 8.,\n",
       "       2., 6., 2., 8., 5., 7., 8., 8., 6., 8., 2., 5., 8., 5., 8., 7., 4.,\n",
       "       0., 7., 4., 2., 8., 9., 1., 2., 0., 9., 1., 1., 3., 4., 8., 8., 8.,\n",
       "       3., 8., 6., 2., 5., 0., 8., 3., 8., 5., 5., 9., 5., 5., 2., 2., 9.,\n",
       "       2., 2., 1., 3., 3., 1., 8., 0., 7., 1., 4., 6., 8., 7., 0., 0., 1.,\n",
       "       8., 9., 3., 9., 6., 0., 8., 4., 9., 1., 3., 6., 9., 4., 3., 0., 9.,\n",
       "       4., 3., 7., 4., 2., 2., 4., 0., 6., 9., 1., 5., 4., 8., 4., 6., 0.,\n",
       "       6., 5., 8., 0., 8., 5., 3., 1., 0., 6., 4., 1., 7., 9., 7., 7., 9.,\n",
       "       0., 1., 9., 5., 0., 2., 2., 6., 8., 0., 3., 1., 5., 9., 0., 7., 2.,\n",
       "       7., 2., 1., 6., 4., 6., 4., 1., 7., 2., 2., 0., 7., 1., 2., 6., 5.,\n",
       "       0., 0., 9., 1., 5., 1., 4., 6., 0., 9., 2., 1., 6., 9., 7., 6., 8.,\n",
       "       3., 5., 3., 6., 8., 4., 6., 8., 1., 1., 9., 7., 7., 9., 0., 4., 7.,\n",
       "       0., 6., 4., 6., 6., 0., 6., 6., 1., 1., 8., 7., 3., 4., 7., 1., 0.,\n",
       "       4., 5., 1., 6., 6., 6., 8., 6., 4., 9., 5., 6., 4., 8., 7., 2., 4.,\n",
       "       9., 5., 4., 9., 0., 0., 9., 6., 5., 0., 1., 9., 8., 6., 1., 2., 8.,\n",
       "       5., 1., 2., 4., 5., 1., 9., 9., 1., 5., 1., 9., 4., 5., 3., 3., 7.,\n",
       "       4., 8., 1., 5., 9., 3., 3., 3., 8., 4., 2., 6., 0., 8., 4., 2., 8.,\n",
       "       2., 2., 3.])"
      ]
     },
     "execution_count": 198,
     "metadata": {},
     "output_type": "execute_result"
    }
   ],
   "source": [
    "%time clf.predict(X_test)"
   ]
  },
  {
   "cell_type": "code",
   "execution_count": 199,
   "metadata": {},
   "outputs": [
    {
     "name": "stdout",
     "output_type": "stream",
     "text": [
      "Wall time: 2.48 s\n"
     ]
    },
    {
     "data": {
      "text/plain": [
       "array([4, 9, 9, 9, 6, 5, 4, 7, 0, 3, 6, 9, 3, 9, 6, 7, 6, 9, 6, 2, 1, 6,\n",
       "       3, 4, 7, 3, 7, 1, 2, 1, 1, 6, 3, 1, 1, 1, 3, 6, 1, 6, 1, 2, 0, 3,\n",
       "       4, 7, 2, 4, 8, 3, 4, 5, 6, 5, 7, 3, 8, 1, 2, 5, 5, 9, 0, 3, 0, 9,\n",
       "       9, 5, 2, 8, 1, 6, 4, 2, 2, 1, 5, 9, 0, 5, 6, 3, 7, 1, 7, 8, 8, 1,\n",
       "       7, 5, 6, 4, 8, 7, 7, 7, 1, 6, 2, 3, 0, 4, 2, 0, 2, 0, 4, 2, 7, 6,\n",
       "       9, 4, 3, 2, 4, 0, 3, 8, 2, 3, 2, 9, 0, 4, 2, 2, 1, 5, 1, 2, 9, 5,\n",
       "       9, 5, 3, 6, 0, 4, 5, 9, 6, 3, 6, 3, 1, 3, 7, 8, 4, 5, 3, 7, 5, 4,\n",
       "       0, 4, 2, 7, 8, 8, 0, 6, 2, 1, 1, 3, 0, 4, 4, 1, 0, 3, 2, 3, 4, 6,\n",
       "       7, 1, 3, 0, 7, 7, 9, 7, 0, 1, 9, 6, 7, 3, 0, 6, 7, 6, 2, 0, 0, 3,\n",
       "       6, 3, 3, 3, 5, 7, 3, 5, 7, 0, 9, 1, 7, 0, 3, 2, 0, 4, 8, 6, 4, 2,\n",
       "       5, 3, 8, 4, 7, 9, 2, 3, 1, 4, 7, 1, 3, 9, 0, 4, 4, 2, 8, 8, 7, 7,\n",
       "       6, 5, 0, 8, 0, 0, 3, 2, 1, 4, 1, 3, 1, 9, 0, 1, 5, 8, 9, 7, 8, 1,\n",
       "       5, 0, 7, 8, 6, 0, 6, 5, 2, 4, 0, 8, 0, 8, 4, 3, 4, 3, 8, 4, 3, 2,\n",
       "       8, 1, 9, 3, 5, 6, 8, 9, 7, 9, 1, 7, 2, 5, 2, 2, 1, 7, 7, 1, 3, 6,\n",
       "       1, 3, 8, 1, 1, 0, 0, 1, 2, 7, 2, 1, 8, 7, 9, 7, 1, 1, 4, 1, 2, 2,\n",
       "       7, 2, 3, 0, 6, 4, 0, 6, 7, 4, 4, 3, 8, 6, 1, 7, 5, 5, 5, 0, 9, 6,\n",
       "       6, 0, 7, 9, 1, 2, 6, 0, 0, 2, 1, 5, 0, 9, 8, 4, 3, 1, 5, 0, 4, 5,\n",
       "       2, 9, 9, 2, 7, 0, 2, 1, 7, 1, 5, 7, 2, 1, 7, 5, 9, 9, 4, 4, 7, 8,\n",
       "       7, 9, 9, 7, 4, 7, 5, 9, 3, 8, 8, 1, 7, 8, 3, 9, 5, 4, 7, 2, 4, 5,\n",
       "       0, 2, 2, 9, 6, 3, 8, 2, 6, 2, 8, 5, 7, 8, 8, 6, 8, 2, 5, 8, 5, 8,\n",
       "       7, 4, 0, 7, 4, 2, 8, 9, 1, 2, 0, 9, 1, 1, 3, 4, 8, 8, 8, 3, 8, 6,\n",
       "       2, 5, 0, 8, 3, 8, 5, 5, 9, 5, 5, 2, 2, 9, 2, 2, 1, 3, 3, 1, 8, 0,\n",
       "       7, 1, 4, 6, 8, 7, 0, 0, 1, 8, 9, 3, 9, 6, 0, 8, 4, 9, 1, 3, 6, 9,\n",
       "       4, 3, 0, 9, 4, 3, 7, 4, 2, 2, 4, 0, 6, 9, 1, 5, 4, 8, 4, 6, 0, 6,\n",
       "       5, 8, 0, 8, 5, 3, 1, 0, 6, 4, 1, 7, 9, 7, 7, 9, 0, 1, 9, 5, 0, 2,\n",
       "       2, 6, 8, 0, 3, 1, 5, 9, 0, 7, 2, 7, 2, 1, 6, 4, 6, 4, 1, 7, 2, 2,\n",
       "       0, 7, 1, 2, 6, 5, 0, 0, 9, 1, 5, 1, 4, 6, 0, 9, 2, 1, 6, 9, 7, 6,\n",
       "       8, 3, 5, 3, 6, 8, 4, 6, 8, 1, 1, 9, 7, 7, 9, 0, 4, 7, 0, 6, 4, 6,\n",
       "       6, 0, 6, 6, 1, 1, 8, 7, 3, 4, 7, 1, 0, 4, 5, 1, 6, 6, 6, 8, 6, 4,\n",
       "       9, 5, 6, 4, 8, 7, 2, 4, 9, 5, 4, 9, 0, 0, 9, 6, 5, 0, 1, 9, 8, 6,\n",
       "       1, 2, 8, 5, 1, 2, 4, 5, 1, 9, 9, 1, 5, 1, 9, 4, 5, 3, 3, 7, 4, 8,\n",
       "       1, 5, 9, 3, 3, 3, 8, 4, 2, 6, 0, 8, 4, 2, 8, 2, 2, 3], dtype=int64)"
      ]
     },
     "execution_count": 199,
     "metadata": {},
     "output_type": "execute_result"
    }
   ],
   "source": [
    "%time my_clf.predict(X_test)"
   ]
  },
  {
   "cell_type": "code",
   "execution_count": 200,
   "metadata": {},
   "outputs": [
    {
     "name": "stdout",
     "output_type": "stream",
     "text": [
      "Wall time: 1min 17s\n"
     ]
    },
    {
     "data": {
      "text/plain": [
       "array([[0., 0., 0., ..., 0., 0., 0.],\n",
       "       [0., 0., 0., ..., 0., 0., 1.],\n",
       "       [0., 0., 0., ..., 0., 0., 1.],\n",
       "       ...,\n",
       "       [0., 0., 1., ..., 0., 0., 0.],\n",
       "       [0., 0., 1., ..., 0., 0., 0.],\n",
       "       [0., 0., 0., ..., 0., 0., 0.]])"
      ]
     },
     "execution_count": 200,
     "metadata": {},
     "output_type": "execute_result"
    }
   ],
   "source": [
    "%time clf.predict_proba(X_test)"
   ]
  },
  {
   "cell_type": "code",
   "execution_count": 201,
   "metadata": {},
   "outputs": [
    {
     "name": "stdout",
     "output_type": "stream",
     "text": [
      "Wall time: 2.53 s\n"
     ]
    },
    {
     "data": {
      "text/plain": [
       "array([[0., 0., 0., ..., 0., 0., 0.],\n",
       "       [0., 0., 0., ..., 0., 0., 1.],\n",
       "       [0., 0., 0., ..., 0., 0., 1.],\n",
       "       ...,\n",
       "       [0., 0., 1., ..., 0., 0., 0.],\n",
       "       [0., 0., 1., ..., 0., 0., 0.],\n",
       "       [0., 0., 0., ..., 0., 0., 0.]])"
      ]
     },
     "execution_count": 201,
     "metadata": {},
     "output_type": "execute_result"
    }
   ],
   "source": [
    "%time my_clf.predict_proba(X_test)"
   ]
  },
  {
   "cell_type": "code",
   "execution_count": 202,
   "metadata": {},
   "outputs": [
    {
     "data": {
      "text/plain": [
       "0.97"
      ]
     },
     "execution_count": 202,
     "metadata": {},
     "output_type": "execute_result"
    }
   ],
   "source": [
    "clf.score(X_test, y_test)"
   ]
  },
  {
   "cell_type": "code",
   "execution_count": 203,
   "metadata": {},
   "outputs": [
    {
     "data": {
      "text/plain": [
       "0.97"
      ]
     },
     "execution_count": 203,
     "metadata": {},
     "output_type": "execute_result"
    }
   ],
   "source": [
    "my_clf.score(X_test, y_test)"
   ]
  },
  {
   "cell_type": "markdown",
   "metadata": {},
   "source": [
    "Задание 4"
   ]
  },
  {
   "cell_type": "code",
   "execution_count": 204,
   "metadata": {},
   "outputs": [],
   "source": [
    "clf = KNeighborsClassifier(n_neighbors=2, algorithm='kd_tree')\n",
    "my_clf = MyKNeighborsClassifier(n_neighbors=2, algorithm='kd_tree')"
   ]
  },
  {
   "cell_type": "code",
   "execution_count": 205,
   "metadata": {},
   "outputs": [],
   "source": [
    "X_train, X_test, y_train, y_test = train_test_split(mnist.data, mnist.target, test_size=0.01, stratify=mnist.target)"
   ]
  },
  {
   "cell_type": "code",
   "execution_count": 206,
   "metadata": {},
   "outputs": [
    {
     "name": "stdout",
     "output_type": "stream",
     "text": [
      "Wall time: 45.1 s\n"
     ]
    },
    {
     "data": {
      "text/plain": [
       "KNeighborsClassifier(algorithm='kd_tree', leaf_size=30, metric='minkowski',\n",
       "           metric_params=None, n_jobs=1, n_neighbors=2, p=2,\n",
       "           weights='uniform')"
      ]
     },
     "execution_count": 206,
     "metadata": {},
     "output_type": "execute_result"
    }
   ],
   "source": [
    "%time clf.fit(X_train, y_train)"
   ]
  },
  {
   "cell_type": "code",
   "execution_count": 207,
   "metadata": {},
   "outputs": [
    {
     "name": "stdout",
     "output_type": "stream",
     "text": [
      "Wall time: 45.5 s\n"
     ]
    }
   ],
   "source": [
    "%time my_clf.fit(X_train, y_train)"
   ]
  },
  {
   "cell_type": "code",
   "execution_count": 208,
   "metadata": {},
   "outputs": [
    {
     "name": "stdout",
     "output_type": "stream",
     "text": [
      "Wall time: 1min 24s\n"
     ]
    },
    {
     "data": {
      "text/plain": [
       "array([7., 8., 9., 4., 2., 0., 3., 8., 8., 5., 6., 4., 7., 7., 5., 4., 9.,\n",
       "       3., 4., 3., 9., 0., 4., 1., 4., 8., 6., 1., 9., 7., 6., 5., 1., 1.,\n",
       "       1., 9., 9., 2., 0., 4., 8., 7., 7., 8., 2., 1., 0., 0., 4., 5., 7.,\n",
       "       3., 0., 9., 9., 6., 3., 9., 6., 7., 5., 5., 9., 5., 3., 5., 7., 1.,\n",
       "       0., 0., 7., 6., 8., 0., 2., 7., 2., 1., 2., 0., 9., 8., 5., 1., 1.,\n",
       "       4., 0., 6., 6., 5., 2., 1., 0., 9., 6., 5., 6., 5., 0., 1., 1., 1.,\n",
       "       4., 7., 2., 7., 4., 7., 3., 6., 1., 1., 0., 7., 4., 1., 5., 4., 7.,\n",
       "       5., 7., 2., 1., 6., 9., 6., 8., 1., 3., 8., 9., 3., 0., 4., 3., 2.,\n",
       "       7., 8., 8., 6., 7., 6., 0., 2., 9., 4., 9., 4., 7., 5., 4., 4., 3.,\n",
       "       3., 3., 7., 9., 5., 6., 8., 8., 4., 1., 6., 0., 3., 3., 4., 3., 2.,\n",
       "       8., 8., 3., 1., 3., 6., 9., 5., 6., 7., 9., 9., 3., 8., 3., 8., 0.,\n",
       "       9., 4., 8., 4., 2., 0., 6., 3., 0., 9., 7., 9., 9., 6., 7., 2., 4.,\n",
       "       7., 9., 0., 7., 7., 2., 1., 5., 8., 6., 2., 2., 8., 8., 4., 6., 5.,\n",
       "       4., 3., 7., 3., 1., 3., 5., 1., 9., 7., 5., 6., 0., 7., 7., 2., 5.,\n",
       "       6., 8., 0., 1., 5., 0., 6., 4., 9., 0., 0., 6., 8., 1., 2., 9., 8.,\n",
       "       6., 2., 1., 8., 0., 4., 9., 6., 1., 0., 4., 7., 3., 6., 6., 4., 9.,\n",
       "       0., 2., 2., 0., 5., 4., 9., 3., 5., 4., 2., 2., 1., 2., 3., 5., 3.,\n",
       "       5., 9., 0., 6., 4., 1., 9., 2., 1., 9., 2., 3., 9., 8., 9., 2., 0.,\n",
       "       8., 4., 0., 0., 0., 9., 7., 5., 6., 8., 9., 7., 1., 4., 4., 3., 5.,\n",
       "       3., 3., 8., 4., 5., 6., 6., 3., 6., 8., 8., 1., 9., 6., 1., 3., 7.,\n",
       "       7., 8., 3., 3., 6., 7., 8., 6., 1., 9., 5., 4., 4., 0., 2., 3., 9.,\n",
       "       6., 7., 5., 1., 1., 4., 8., 7., 4., 4., 1., 7., 3., 0., 5., 2., 6.,\n",
       "       0., 3., 6., 2., 7., 4., 0., 9., 5., 5., 1., 0., 1., 2., 3., 4., 5.,\n",
       "       7., 1., 1., 4., 5., 2., 9., 8., 2., 2., 2., 3., 8., 6., 3., 7., 5.,\n",
       "       1., 5., 1., 2., 6., 4., 2., 5., 1., 6., 3., 7., 5., 9., 3., 0., 0.,\n",
       "       1., 2., 5., 1., 1., 2., 0., 6., 0., 7., 4., 7., 9., 4., 6., 7., 5.,\n",
       "       7., 1., 2., 2., 4., 9., 1., 1., 4., 5., 2., 0., 1., 3., 9., 3., 7.,\n",
       "       3., 3., 6., 0., 2., 2., 7., 7., 1., 0., 1., 3., 0., 3., 2., 1., 9.,\n",
       "       1., 9., 5., 9., 1., 9., 3., 0., 9., 3., 5., 2., 9., 2., 3., 6., 0.,\n",
       "       4., 4., 2., 8., 0., 8., 1., 3., 3., 6., 8., 9., 7., 1., 4., 7., 0.,\n",
       "       1., 6., 6., 4., 1., 3., 4., 7., 7., 3., 7., 1., 6., 4., 8., 2., 3.,\n",
       "       4., 9., 6., 2., 3., 7., 3., 6., 6., 6., 5., 1., 8., 1., 0., 2., 0.,\n",
       "       6., 9., 5., 8., 5., 4., 3., 0., 1., 1., 2., 5., 3., 3., 2., 8., 2.,\n",
       "       7., 5., 8., 5., 0., 3., 6., 8., 7., 9., 4., 8., 2., 8., 5., 9., 7.,\n",
       "       8., 1., 1., 7., 6., 8., 3., 9., 2., 3., 1., 1., 8., 3., 5., 2., 8.,\n",
       "       3., 7., 7., 9., 5., 1., 5., 7., 3., 2., 7., 2., 6., 0., 2., 2., 1.,\n",
       "       0., 9., 2., 1., 3., 3., 0., 6., 4., 2., 6., 4., 8., 7., 2., 5., 0.,\n",
       "       5., 9., 7., 6., 1., 3., 9., 7., 8., 9., 8., 8., 0., 2., 7., 0., 5.,\n",
       "       5., 2., 4., 7., 9., 1., 3., 4., 3., 5., 2., 4., 1., 0., 3., 0., 8.,\n",
       "       0., 0., 8., 5., 3., 6., 8., 4., 4., 9., 4., 0., 4., 0., 5., 1., 4.,\n",
       "       0., 2., 6., 1., 0., 0., 4., 1., 0., 8., 8., 4., 0., 4., 3., 7., 5.,\n",
       "       1., 1., 0.])"
      ]
     },
     "execution_count": 208,
     "metadata": {},
     "output_type": "execute_result"
    }
   ],
   "source": [
    "%time clf.predict(X_test)"
   ]
  },
  {
   "cell_type": "code",
   "execution_count": 209,
   "metadata": {},
   "outputs": [
    {
     "name": "stdout",
     "output_type": "stream",
     "text": [
      "Wall time: 1min 7s\n"
     ]
    },
    {
     "data": {
      "text/plain": [
       "array([7, 8, 9, 4, 2, 0, 3, 8, 8, 5, 6, 4, 7, 7, 5, 4, 9, 3, 4, 3, 9, 0,\n",
       "       4, 1, 4, 8, 6, 1, 9, 7, 6, 5, 1, 1, 1, 9, 9, 2, 0, 4, 8, 7, 7, 8,\n",
       "       2, 1, 0, 0, 4, 5, 7, 3, 0, 9, 9, 6, 3, 9, 6, 7, 5, 5, 9, 5, 3, 5,\n",
       "       7, 1, 0, 0, 7, 6, 8, 0, 2, 7, 2, 1, 2, 0, 9, 8, 5, 1, 1, 4, 0, 6,\n",
       "       6, 5, 2, 1, 0, 9, 6, 5, 6, 5, 0, 1, 1, 1, 4, 7, 2, 7, 4, 7, 3, 6,\n",
       "       1, 1, 0, 7, 4, 1, 5, 4, 7, 5, 7, 2, 1, 6, 9, 6, 8, 1, 3, 8, 9, 3,\n",
       "       0, 4, 3, 2, 7, 8, 8, 6, 7, 6, 0, 2, 9, 4, 9, 4, 7, 5, 4, 4, 3, 3,\n",
       "       3, 7, 9, 5, 6, 8, 8, 4, 1, 6, 0, 3, 3, 4, 3, 2, 8, 8, 3, 1, 3, 6,\n",
       "       9, 5, 6, 7, 9, 9, 3, 8, 3, 8, 0, 9, 4, 8, 4, 2, 0, 6, 3, 0, 9, 7,\n",
       "       9, 9, 6, 7, 2, 4, 7, 9, 0, 7, 7, 2, 1, 5, 8, 6, 2, 2, 8, 8, 4, 6,\n",
       "       5, 4, 3, 7, 3, 1, 3, 5, 1, 9, 7, 5, 6, 0, 7, 7, 2, 5, 6, 8, 0, 1,\n",
       "       5, 0, 6, 4, 9, 0, 0, 6, 8, 1, 2, 9, 8, 6, 2, 1, 8, 0, 4, 9, 6, 1,\n",
       "       0, 4, 7, 3, 6, 6, 4, 9, 0, 2, 2, 0, 5, 4, 9, 3, 5, 4, 2, 2, 1, 2,\n",
       "       3, 5, 3, 5, 9, 0, 6, 4, 1, 9, 2, 1, 9, 2, 3, 9, 8, 9, 2, 0, 8, 4,\n",
       "       0, 0, 0, 9, 7, 5, 6, 8, 9, 7, 1, 4, 4, 3, 5, 3, 3, 8, 4, 5, 6, 6,\n",
       "       3, 6, 8, 8, 1, 9, 6, 1, 3, 7, 7, 8, 3, 3, 6, 7, 8, 6, 1, 9, 5, 4,\n",
       "       4, 0, 2, 3, 9, 6, 7, 5, 1, 1, 4, 8, 7, 4, 4, 1, 7, 3, 0, 5, 2, 6,\n",
       "       0, 3, 6, 2, 7, 4, 0, 9, 5, 5, 1, 0, 1, 2, 3, 4, 5, 7, 1, 1, 4, 5,\n",
       "       2, 9, 8, 2, 2, 2, 3, 8, 6, 3, 7, 5, 1, 5, 1, 2, 6, 4, 2, 5, 1, 6,\n",
       "       3, 7, 5, 9, 3, 0, 0, 1, 2, 5, 1, 1, 2, 0, 6, 0, 7, 4, 7, 9, 4, 6,\n",
       "       7, 5, 7, 1, 2, 2, 4, 9, 1, 1, 4, 5, 2, 0, 1, 3, 9, 3, 7, 3, 3, 6,\n",
       "       0, 2, 2, 7, 7, 1, 0, 1, 3, 0, 3, 2, 1, 9, 1, 9, 5, 9, 1, 9, 3, 0,\n",
       "       9, 3, 5, 2, 9, 2, 3, 6, 0, 4, 4, 2, 8, 0, 8, 1, 3, 3, 6, 8, 9, 7,\n",
       "       1, 4, 7, 0, 1, 6, 6, 4, 1, 3, 4, 7, 7, 3, 7, 1, 6, 4, 8, 2, 3, 4,\n",
       "       9, 6, 2, 3, 7, 3, 6, 6, 6, 5, 1, 8, 1, 0, 2, 0, 6, 9, 5, 8, 5, 4,\n",
       "       3, 0, 1, 1, 2, 5, 3, 3, 2, 8, 2, 7, 5, 8, 5, 0, 3, 6, 8, 7, 9, 4,\n",
       "       8, 2, 8, 5, 9, 7, 8, 1, 1, 7, 6, 8, 3, 9, 2, 3, 1, 1, 8, 3, 5, 2,\n",
       "       8, 3, 7, 7, 9, 5, 1, 5, 7, 3, 2, 7, 2, 6, 0, 2, 2, 1, 0, 9, 2, 1,\n",
       "       3, 3, 0, 6, 4, 2, 6, 4, 8, 7, 2, 5, 0, 5, 9, 7, 6, 1, 3, 9, 7, 8,\n",
       "       9, 8, 8, 0, 2, 7, 0, 5, 5, 2, 4, 7, 9, 1, 3, 4, 3, 5, 2, 4, 1, 0,\n",
       "       3, 0, 8, 0, 0, 8, 5, 3, 6, 8, 4, 4, 9, 4, 0, 4, 0, 5, 1, 4, 0, 2,\n",
       "       6, 1, 0, 0, 4, 1, 0, 8, 8, 4, 0, 4, 3, 7, 5, 1, 1, 0], dtype=int64)"
      ]
     },
     "execution_count": 209,
     "metadata": {},
     "output_type": "execute_result"
    }
   ],
   "source": [
    "%time my_clf.predict(X_test)"
   ]
  },
  {
   "cell_type": "code",
   "execution_count": 210,
   "metadata": {},
   "outputs": [
    {
     "name": "stdout",
     "output_type": "stream",
     "text": [
      "Wall time: 1min 26s\n"
     ]
    },
    {
     "data": {
      "text/plain": [
       "array([[0., 0., 0., ..., 1., 0., 0.],\n",
       "       [0., 0., 0., ..., 0., 1., 0.],\n",
       "       [0., 0., 0., ..., 0., 0., 1.],\n",
       "       ...,\n",
       "       [0., 1., 0., ..., 0., 0., 0.],\n",
       "       [0., 1., 0., ..., 0., 0., 0.],\n",
       "       [1., 0., 0., ..., 0., 0., 0.]])"
      ]
     },
     "execution_count": 210,
     "metadata": {},
     "output_type": "execute_result"
    }
   ],
   "source": [
    "%time clf.predict_proba(X_test)"
   ]
  },
  {
   "cell_type": "code",
   "execution_count": 211,
   "metadata": {},
   "outputs": [
    {
     "name": "stdout",
     "output_type": "stream",
     "text": [
      "Wall time: 1min 8s\n"
     ]
    },
    {
     "data": {
      "text/plain": [
       "array([[0., 0., 0., ..., 1., 0., 0.],\n",
       "       [0., 0., 0., ..., 0., 1., 0.],\n",
       "       [0., 0., 0., ..., 0., 0., 1.],\n",
       "       ...,\n",
       "       [0., 1., 0., ..., 0., 0., 0.],\n",
       "       [0., 1., 0., ..., 0., 0., 0.],\n",
       "       [1., 0., 0., ..., 0., 0., 0.]])"
      ]
     },
     "execution_count": 211,
     "metadata": {},
     "output_type": "execute_result"
    }
   ],
   "source": [
    "%time my_clf.predict_proba(X_test)"
   ]
  },
  {
   "cell_type": "code",
   "execution_count": 212,
   "metadata": {},
   "outputs": [
    {
     "data": {
      "text/plain": [
       "0.9628571428571429"
      ]
     },
     "execution_count": 212,
     "metadata": {},
     "output_type": "execute_result"
    }
   ],
   "source": [
    "clf.score(X_test, y_test)"
   ]
  },
  {
   "cell_type": "code",
   "execution_count": 213,
   "metadata": {},
   "outputs": [
    {
     "data": {
      "text/plain": [
       "0.9628571428571429"
      ]
     },
     "execution_count": 213,
     "metadata": {},
     "output_type": "execute_result"
    }
   ],
   "source": [
    "my_clf.score(X_test, y_test)"
   ]
  },
  {
   "cell_type": "markdown",
   "metadata": {},
   "source": [
    "Задание 5"
   ]
  },
  {
   "cell_type": "code",
   "execution_count": null,
   "metadata": {},
   "outputs": [],
   "source": [
    "# seaborn - библиотека для визуализации данных на основе matplotlib\n",
    "# matplotlib - библиотека для визуализации данных двумерной (2D) графикой\n",
    "# train_test_split - функция из sklearn, которая разделяет массив или матрицу на 2 подвыборки - обучающую и тестовую\n",
    "# Pipelin%load_ext e (from sklearn.pipeline import Pipeline) - используется, чтобы последовательно преобразовывать данные, \n",
    "                                                                # что выходит из предыдущего, подается на вход следующему\n",
    "# StandardScaler (from sklearn.preprocessing import StandardScaler) - нормализация данных, \n",
    "                                                                # чтобы среднее значение стало 0, а стандартное отклонение 1\n",
    "# ClassifierMixin - базовый класс для всех классификаторов sklearn\n",
    "# NeighborsBase - базовый класс для KNN\n",
    "# KNeighborsMixin - базовый класс для KNN, + поиск ближайших соседей\n",
    "# SupervisedIntegerMixin - базовый класс с описанным методом fit"
   ]
  }
 ],
 "metadata": {
  "kernelspec": {
   "display_name": "Python 3",
   "language": "python",
   "name": "python3"
  },
  "language_info": {
   "codemirror_mode": {
    "name": "ipython",
    "version": 3
   },
   "file_extension": ".py",
   "mimetype": "text/x-python",
   "name": "python",
   "nbconvert_exporter": "python",
   "pygments_lexer": "ipython3",
   "version": "3.6.5"
  }
 },
 "nbformat": 4,
 "nbformat_minor": 2
}
